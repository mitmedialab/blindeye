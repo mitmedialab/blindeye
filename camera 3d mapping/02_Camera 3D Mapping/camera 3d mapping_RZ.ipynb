{
 "cells": [
  {
   "cell_type": "markdown",
   "metadata": {},
   "source": [
    "## Line-plane Intersction"
   ]
  },
  {
   "cell_type": "code",
   "execution_count": 34,
   "metadata": {},
   "outputs": [],
   "source": [
    "import numpy as np\n",
    "import math"
   ]
  },
  {
   "cell_type": "code",
   "execution_count": 35,
   "metadata": {},
   "outputs": [],
   "source": [
    "def LinePlaneCollision(planeNormal, planePoint, rayDirection, rayPoint, epsilon=1e-6):\n",
    "    ndotu = planeNormal.dot(rayDirection)\n",
    "    if abs(ndotu) < epsilon:\n",
    "        raise RuntimeError(\"no intersection or line is within plane\")\n",
    " \n",
    "    w = rayPoint - planePoint\n",
    "    si = -planeNormal.dot(w) / ndotu\n",
    "    Psi = w + si * rayDirection + planePoint\n",
    "    return Psi"
   ]
  },
  {
   "cell_type": "code",
   "execution_count": 36,
   "metadata": {},
   "outputs": [
    {
     "name": "stdout",
     "output_type": "stream",
     "text": [
      "intersection at [ 0. -5.  5.]\n"
     ]
    }
   ],
   "source": [
    "#Define plane\n",
    "planeNormal = np.array([0, 0, 1])\n",
    "planePoint = np.array([0, 0, 5]) #Any point on the plane\n",
    "\n",
    "#Define ray\n",
    "rayDirection = np.array([0, -1, -1])\n",
    "rayPoint = np.array([0, 0, 10]) #Any point along the ray\n",
    "\n",
    "Psi = LinePlaneCollision(planeNormal, planePoint, rayDirection, rayPoint)\n",
    "print (\"intersection at\", Psi)"
   ]
  },
  {
   "cell_type": "markdown",
   "metadata": {},
   "source": [
    "## Ray from Camera"
   ]
  },
  {
   "cell_type": "code",
   "execution_count": 37,
   "metadata": {},
   "outputs": [
    {
     "name": "stdout",
     "output_type": "stream",
     "text": [
      "camD =  672.1992366813215\n"
     ]
    }
   ],
   "source": [
    "# camera setup\n",
    "camW = 1920  # units: pixel (mm when calculated)\n",
    "camH = 1080  # units: pixel (mm when calculated)\n",
    "camAngleW = 110  # units: degree\n",
    "\n",
    "camD = (camW/2)/math.tan(math.radians(camAngleW/2))  # units: mm\n",
    "print ('camD = ', camD)"
   ]
  },
  {
   "cell_type": "code",
   "execution_count": 38,
   "metadata": {},
   "outputs": [
    {
     "name": "stdout",
     "output_type": "stream",
     "text": [
      "[2.74911638 4.77180932 1.91629719]\n"
     ]
    }
   ],
   "source": [
    "# https://stackoverflow.com/questions/6802577/rotation-of-3d-vector\n",
    "\n",
    "def RotationMatrix(axis, theta):\n",
    "    \"\"\"\n",
    "    Return the rotation matrix associated with counterclockwise rotation about\n",
    "    the given axis by theta radians.\n",
    "    \"\"\"\n",
    "    axis = np.asarray(axis)\n",
    "    axis = axis / math.sqrt(np.dot(axis, axis))\n",
    "    a = math.cos(theta / 2.0)\n",
    "    b, c, d = -axis * math.sin(theta / 2.0)\n",
    "    aa, bb, cc, dd = a * a, b * b, c * c, d * d\n",
    "    bc, ad, ac, ab, bd, cd = b * c, a * d, a * c, a * b, b * d, c * d\n",
    "    return np.array([[aa + bb - cc - dd, 2 * (bc + ad), 2 * (bd - ac)],\n",
    "                     [2 * (bc - ad), aa + cc - bb - dd, 2 * (cd + ab)],\n",
    "                     [2 * (bd + ac), 2 * (cd - ab), aa + dd - bb - cc]])\n",
    "\n",
    "def RotPtAxis(pt, axis, theta):\n",
    "    # theta in radians\n",
    "    return np.dot(RotationMatrix(axis, theta), pt)\n",
    "\n",
    "pt = [3, 5, 0]\n",
    "axis = [4, 4, 1]\n",
    "theta = 1.2 \n",
    "\n",
    "print(RotPtAxis(pt, axis, theta)) \n",
    "# [ 2.74911638  4.77180932  1.91629719]"
   ]
  },
  {
   "cell_type": "code",
   "execution_count": 46,
   "metadata": {},
   "outputs": [
    {
     "name": "stdout",
     "output_type": "stream",
     "text": [
      "68.75493541569878\n"
     ]
    }
   ],
   "source": [
    "print(math.degrees(1.2))"
   ]
  },
  {
   "cell_type": "code",
   "execution_count": 39,
   "metadata": {},
   "outputs": [],
   "source": [
    "camPos = [0, 0, 3000]  # units: mm\n",
    "camRot = [-25, 5, 45]  # local euler angle(x, y, z); units: degree"
   ]
  },
  {
   "cell_type": "code",
   "execution_count": 53,
   "metadata": {},
   "outputs": [
    {
     "name": "stdout",
     "output_type": "stream",
     "text": [
      "[-825.67727087   29.33591129 2705.97914618]\n"
     ]
    }
   ],
   "source": [
    "pixPos = [400, 600] # units: pixel (mm when calculated)\n",
    "\n",
    "def CamPixToWorldPos(pixPos, camPos, camRot, camW, camH, camAngleW):\n",
    "    '''\n",
    "    camRot in degrees\n",
    "    pixPos in pixels (mm when calculated), [0,0]is top right of the image\n",
    "    camPos in mm\n",
    "    camW, camH in pixels (mm when calculated)\n",
    "    camAngleW in degrees\n",
    "    '''\n",
    "    camD = (camW/2)/math.tan(math.radians(camAngleW/2))\n",
    "    camPos = np.asarray(camPos)\n",
    "    camRot = np.asarray(camRot)\n",
    "    # start with cam at [0,0,0], fwd facing, no rot, get pix world pos\n",
    "    pt = np.array([pixPos[0]-camW/2, camD, camH/2-pixPos[1]])\n",
    "    # rotate pt with cam at [0,0,0]\n",
    "    ## local z axis\n",
    "    localZAxis = [0,0,1]\n",
    "    pt = rotPtAxis(pt, localZAxis, math.radians(camRot[2]))\n",
    "    ## local x axis\n",
    "    localXAxis = [1,0,0]\n",
    "    localXAxis = rotPtAxis(localXAxis, localZAxis, math.radians(camRot[2]))\n",
    "    pt = rotPtAxis(pt, localXAxis, math.radians(camRot[0]))\n",
    "    ## local y axis\n",
    "    localYAxis = [0,1,0]\n",
    "    localYAxis = rotPtAxis(localYAxis, localZAxis, math.radians(camRot[2]))\n",
    "    localYAxis = rotPtAxis(localYAxis, localXAxis, math.radians(camRot[0]))\n",
    "    pt = rotPtAxis(pt, localYAxis, math.radians(camRot[1]))\n",
    "    # move pt to cam pos\n",
    "    pt = pt + camPos\n",
    "    return pt\n",
    "\n",
    "print(CamPixToWorldPos(pixPos, camPos, camRot, camW, camH, camAngleW))"
   ]
  },
  {
   "cell_type": "markdown",
   "metadata": {},
   "source": [
    "# Camera Pixel and Ground Plane Intersection"
   ]
  },
  {
   "cell_type": "code",
   "execution_count": 51,
   "metadata": {},
   "outputs": [],
   "source": [
    "def CamPixToPlaneIntersection(pixPos, camPos, camRot, camW, camH, camAngleW, planeNormal, planePoint):\n",
    "    camPos = np.asarray(camPos)\n",
    "    camRot = np.asarray(camRot)\n",
    "    pixWorldPos = CamPixToWorldPos(pixPos, camPos, camRot, camW, camH, camAngleW)\n",
    "    rayDirection = pixWorldPos - camPos\n",
    "    rayPoint = camPos\n",
    "    pt = LinePlaneCollision(planeNormal, planePoint, rayDirection, rayPoint)\n",
    "    return pt"
   ]
  },
  {
   "cell_type": "code",
   "execution_count": 55,
   "metadata": {},
   "outputs": [
    {
     "name": "stdout",
     "output_type": "stream",
     "text": [
      "intersection point:  [-8424.68070013   299.32480204     0.        ]\n"
     ]
    }
   ],
   "source": [
    "#test 01\n",
    "\n",
    "# camera setup\n",
    "camW = 1920  # units: pixel (mm when calculated)\n",
    "camH = 1080  # units: pixel (mm when calculated)\n",
    "camAngleW = 110  # units: degree\n",
    "# camera pos rot\n",
    "camPos = [0, 0, 3000]  # units: mm\n",
    "camRot = [-25, 5, 45]  # local euler angle(x, y, z); units: degree\n",
    "# pixel info\n",
    "pixPos = [400, 600] # units: pixel (mm when calculated)\n",
    "# plane info\n",
    "planeNormal = np.array([0, 0, 1])\n",
    "planePoint = np.array([0, 0, 0]) #Any point on the plane\n",
    "\n",
    "# test\n",
    "pt = CamPixToPlaneIntersection(pixPos, camPos, camRot, camW, camH, camAngleW, planeNormal, planePoint)\n",
    "print('intersection point: ', pt)"
   ]
  },
  {
   "cell_type": "code",
   "execution_count": 56,
   "metadata": {},
   "outputs": [
    {
     "name": "stdout",
     "output_type": "stream",
     "text": [
      "intersection point:  [5822.06714297 6086.97727726    0.        ]\n"
     ]
    }
   ],
   "source": [
    "#test 02\n",
    "\n",
    "# camera setup\n",
    "camW = 800  # units: pixel (mm when calculated)\n",
    "camH = 600  # units: pixel (mm when calculated)\n",
    "camAngleW = 95  # units: degree\n",
    "# camera pos rot\n",
    "camPos = [5503, 2405, 2837]  # units: mm\n",
    "camRot = [-21.9, -12.5, -45]  # local euler angle(x, y, z); units: degree\n",
    "# pixel info\n",
    "pixPos = [135, 402] # units: pixel (mm when calculated)\n",
    "# plane info\n",
    "planeNormal = np.array([0, 0, 1])\n",
    "planePoint = np.array([0, 0, 0]) #Any point on the plane\n",
    "\n",
    "# test\n",
    "pt = CamPixToPlaneIntersection(pixPos, camPos, camRot, camW, camH, camAngleW, planeNormal, planePoint)\n",
    "print('intersection point: ', pt)"
   ]
  },
  {
   "cell_type": "markdown",
   "metadata": {},
   "source": [
    "### tested with rhino 3D model, results are precisely correct. "
   ]
  },
  {
   "cell_type": "code",
   "execution_count": null,
   "metadata": {},
   "outputs": [],
   "source": []
  }
 ],
 "metadata": {
  "kernelspec": {
   "display_name": "Python 3",
   "language": "python",
   "name": "python3"
  },
  "language_info": {
   "codemirror_mode": {
    "name": "ipython",
    "version": 3
   },
   "file_extension": ".py",
   "mimetype": "text/x-python",
   "name": "python",
   "nbconvert_exporter": "python",
   "pygments_lexer": "ipython3",
   "version": "3.7.2"
  }
 },
 "nbformat": 4,
 "nbformat_minor": 2
}
